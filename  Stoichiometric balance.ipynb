{
 "cells": [
  {
   "cell_type": "code",
   "execution_count": 1,
   "metadata": {},
   "outputs": [],
   "source": [
    "from chemics import*\n",
    "from chempy import balance_stoichiometry ,Reaction\n",
    "from chempy import Substance\n",
    "from pprint import pprint"
   ]
  },
  {
   "cell_type": "code",
   "execution_count": 15,
   "metadata": {},
   "outputs": [],
   "source": [
    "#Inserting chemical equation\n",
    "ce = ChemicalEquation('C3H7CH2COOH + NaOH -> C3H7CH2COONa + H2O')"
   ]
  },
  {
   "cell_type": "code",
   "execution_count": 16,
   "metadata": {},
   "outputs": [
    {
     "data": {
      "text/plain": [
       "True"
      ]
     },
     "execution_count": 16,
     "metadata": {},
     "output_type": "execute_result"
    }
   ],
   "source": [
    "#Checking if the balance is correct\n",
    "ce.balance"
   ]
  },
  {
   "cell_type": "code",
   "execution_count": 10,
   "metadata": {},
   "outputs": [
    {
     "data": {
      "text/html": [
       "<div>\n",
       "<style scoped>\n",
       "    .dataframe tbody tr th:only-of-type {\n",
       "        vertical-align: middle;\n",
       "    }\n",
       "\n",
       "    .dataframe tbody tr th {\n",
       "        vertical-align: top;\n",
       "    }\n",
       "\n",
       "    .dataframe thead th {\n",
       "        text-align: right;\n",
       "    }\n",
       "</style>\n",
       "<table border=\"1\" class=\"dataframe\">\n",
       "  <thead>\n",
       "    <tr style=\"text-align: right;\">\n",
       "      <th></th>\n",
       "      <th>C3H7CH2COOH</th>\n",
       "      <th>NaOH</th>\n",
       "    </tr>\n",
       "  </thead>\n",
       "  <tbody>\n",
       "    <tr>\n",
       "      <th>moles</th>\n",
       "      <td>1</td>\n",
       "      <td>1</td>\n",
       "    </tr>\n",
       "    <tr>\n",
       "      <th>species</th>\n",
       "      <td>C3H7CH2COOH</td>\n",
       "      <td>NaOH</td>\n",
       "    </tr>\n",
       "    <tr>\n",
       "      <th>molwt</th>\n",
       "      <td>102.133</td>\n",
       "      <td>39.997</td>\n",
       "    </tr>\n",
       "    <tr>\n",
       "      <th>mass</th>\n",
       "      <td>102.133</td>\n",
       "      <td>39.997</td>\n",
       "    </tr>\n",
       "    <tr>\n",
       "      <th>molfrac</th>\n",
       "      <td>0.5</td>\n",
       "      <td>0.5</td>\n",
       "    </tr>\n",
       "    <tr>\n",
       "      <th>massfrac</th>\n",
       "      <td>0.718589</td>\n",
       "      <td>0.281411</td>\n",
       "    </tr>\n",
       "  </tbody>\n",
       "</table>\n",
       "</div>"
      ],
      "text/plain": [
       "           C3H7CH2COOH      NaOH\n",
       "moles                1         1\n",
       "species    C3H7CH2COOH      NaOH\n",
       "molwt          102.133    39.997\n",
       "mass           102.133    39.997\n",
       "molfrac            0.5       0.5\n",
       "massfrac      0.718589  0.281411"
      ]
     },
     "execution_count": 10,
     "metadata": {},
     "output_type": "execute_result"
    }
   ],
   "source": [
    "#Number of moles, chemical species, molecular weight, mass, mole fraction, and mass fraction for each reactant.\n",
    "ce.rct_properties"
   ]
  },
  {
   "cell_type": "code",
   "execution_count": 11,
   "metadata": {},
   "outputs": [
    {
     "data": {
      "text/html": [
       "<div>\n",
       "<style scoped>\n",
       "    .dataframe tbody tr th:only-of-type {\n",
       "        vertical-align: middle;\n",
       "    }\n",
       "\n",
       "    .dataframe tbody tr th {\n",
       "        vertical-align: top;\n",
       "    }\n",
       "\n",
       "    .dataframe thead th {\n",
       "        text-align: right;\n",
       "    }\n",
       "</style>\n",
       "<table border=\"1\" class=\"dataframe\">\n",
       "  <thead>\n",
       "    <tr style=\"text-align: right;\">\n",
       "      <th></th>\n",
       "      <th>C3H7CH2COONa</th>\n",
       "      <th>H2O</th>\n",
       "    </tr>\n",
       "  </thead>\n",
       "  <tbody>\n",
       "    <tr>\n",
       "      <th>moles</th>\n",
       "      <td>1</td>\n",
       "      <td>1</td>\n",
       "    </tr>\n",
       "    <tr>\n",
       "      <th>species</th>\n",
       "      <td>C3H7CH2COONa</td>\n",
       "      <td>H2O</td>\n",
       "    </tr>\n",
       "    <tr>\n",
       "      <th>molwt</th>\n",
       "      <td>124.115</td>\n",
       "      <td>18.015</td>\n",
       "    </tr>\n",
       "    <tr>\n",
       "      <th>mass</th>\n",
       "      <td>124.115</td>\n",
       "      <td>18.015</td>\n",
       "    </tr>\n",
       "    <tr>\n",
       "      <th>molfrac</th>\n",
       "      <td>0.5</td>\n",
       "      <td>0.5</td>\n",
       "    </tr>\n",
       "    <tr>\n",
       "      <th>massfrac</th>\n",
       "      <td>0.87325</td>\n",
       "      <td>0.12675</td>\n",
       "    </tr>\n",
       "  </tbody>\n",
       "</table>\n",
       "</div>"
      ],
      "text/plain": [
       "          C3H7CH2COONa      H2O\n",
       "moles                1        1\n",
       "species   C3H7CH2COONa      H2O\n",
       "molwt          124.115   18.015\n",
       "mass           124.115   18.015\n",
       "molfrac            0.5      0.5\n",
       "massfrac       0.87325  0.12675"
      ]
     },
     "execution_count": 11,
     "metadata": {},
     "output_type": "execute_result"
    }
   ],
   "source": [
    "#Number of moles, chemical species, molecular weight, mass, mole fraction, and mass fraction for each product.\n",
    "ce.prod_properties"
   ]
  },
  {
   "cell_type": "code",
   "execution_count": 17,
   "metadata": {},
   "outputs": [
    {
     "data": {
      "text/plain": [
       "'4 CuSCN + 7 KIO3 + 14 HCl -> 4 CuSO4 + 7 KCl + 4 HCN + 7 ICl + 5 H2O'"
      ]
     },
     "execution_count": 17,
     "metadata": {},
     "output_type": "execute_result"
    }
   ],
   "source": [
    "# inserting reagents and products using the split method\n",
    "# output : balanced chemical reaction\n",
    "reac, prod = 'CuSCN KIO3 HCl'.split(), 'CuSO4 KCl HCN ICl H2O'.split()\n",
    "Reaction(*balance_stoichiometry(reac, prod)).string()\n"
   ]
  },
  {
   "cell_type": "code",
   "execution_count": 18,
   "metadata": {},
   "outputs": [
    {
     "data": {
      "text/plain": [
       "'MnO4- + 4 NO2- -> Mn+2 + 4 NO3- + 3 e-'"
      ]
     },
     "execution_count": 18,
     "metadata": {},
     "output_type": "execute_result"
    }
   ],
   "source": [
    "# Redox examples\n",
    "reac, prod = 'MnO4- NO2-'.split(), 'Mn+2 NO3- e-'.split()\n",
    "Reaction(*balance_stoichiometry(reac, prod)).string()"
   ]
  },
  {
   "cell_type": "code",
   "execution_count": 19,
   "metadata": {},
   "outputs": [
    {
     "data": {
      "text/plain": [
       "'2 MnO4- + 6 H+ + 5 NO2- -> 2 Mn+2 + 5 NO3- + 3 H2O'"
      ]
     },
     "execution_count": 19,
     "metadata": {},
     "output_type": "execute_result"
    }
   ],
   "source": [
    "reac, prod = 'MnO4- H+ NO2-'.split(), 'Mn+2 NO3- H2O'.split()\n",
    "Reaction(*balance_stoichiometry(reac, prod)).string()"
   ]
  }
 ],
 "metadata": {
  "kernelspec": {
   "display_name": "Python 3",
   "language": "python",
   "name": "python3"
  },
  "language_info": {
   "codemirror_mode": {
    "name": "ipython",
    "version": 3
   },
   "file_extension": ".py",
   "mimetype": "text/x-python",
   "name": "python",
   "nbconvert_exporter": "python",
   "pygments_lexer": "ipython3",
   "version": "3.8.3"
  }
 },
 "nbformat": 4,
 "nbformat_minor": 2
}
