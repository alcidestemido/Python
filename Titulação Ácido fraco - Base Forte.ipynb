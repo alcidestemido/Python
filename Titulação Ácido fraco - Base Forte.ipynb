{
 "cells": [
  {
   "cell_type": "code",
   "execution_count": 1,
   "metadata": {},
   "outputs": [],
   "source": [
    "import numpy as np \n",
    "import matplotlib.pyplot as plt"
   ]
  },
  {
   "cell_type": "markdown",
   "metadata": {},
   "source": [
    "Titulação "
   ]
  },
  {
   "cell_type": "code",
   "execution_count": 11,
   "metadata": {},
   "outputs": [],
   "source": [
    "n = [0.1,100,1]\n",
    "Volume = [0,1,5,9,9.9,10,10.01,12]"
   ]
  },
  {
   "cell_type": "code",
   "execution_count": 12,
   "metadata": {},
   "outputs": [],
   "source": [
    "def Calculo_Titulacao(n,Volume,Ka = None):\n",
    "    \n",
    "    C_inicial = n[0]\n",
    "    V_inicial = n[1]\n",
    "    C_titulante = n[2]\n",
    "    pKa = -np.log10(Ka)\n",
    "    Kw = 10**-14\n",
    "    def segundo_grau(a = 1,Ka = Ka):\n",
    "        b = Ka\n",
    "        c = -n[0]*Ka\n",
    "        delta =  b**2 -4*a*c\n",
    "        x = (-b - np.sqrt(delta))/2*a\n",
    "        t = (-b + np.sqrt(delta))/2*a\n",
    "        if x >0:\n",
    "            return x\n",
    "        else:\n",
    "            return t\n",
    "    polinomio = segundo_grau(a = 1,Ka = Ka)     \n",
    "    #Achando Ve \n",
    "    Ve = (C_inicial*V_inicial)/C_titulante\n",
    "    #Empty list to return values\n",
    "    p_H = []\n",
    "    \n",
    "    for index , item in enumerate(Volume):\n",
    "        if item == 0:\n",
    "            C_H = polinomio\n",
    "            pH = - np.log10(C_H)\n",
    "            p_H.append(pH)\n",
    "           \n",
    "        elif item < Ve  :\n",
    "            C_H = (C_inicial*V_inicial - C_titulante*Volume[index])/(V_inicial + Volume[index])\n",
    "            C_A_menos = C_titulante*Volume[index]/(V_inicial+Volume[index])\n",
    "            #Henderson Hasselbalch equation\n",
    "            pH = pKa + np.log10(C_A_menos/C_H)\n",
    "            p_H.append(pH)\n",
    "            \n",
    "        elif item == Ve:\n",
    "            Kb = Kw/Ka\n",
    "            C_A_menos = C_titulante*Ve/(V_inicial + Ve)\n",
    "            C_OH = np.sqrt(Kb*C_A_menos)\n",
    "            pH = 14 + np.log10(C_OH)\n",
    "            p_H.append(pH)\n",
    "        else:\n",
    "            C_OH = (C_titulante*Volume[index] - C_inicial*V_inicial)/(V_inicial + Volume[index])\n",
    "            pH = 14 + np.log10(C_OH)\n",
    "            p_H.append(pH)\n",
    "            \n",
    "    display(f\"Ve = {Ve}\")        \n",
    "    return p_H"
   ]
  },
  {
   "cell_type": "code",
   "execution_count": 13,
   "metadata": {},
   "outputs": [
    {
     "data": {
      "text/plain": [
       "'Ve = 10.0'"
      ]
     },
     "metadata": {},
     "output_type": "display_data"
    },
    {
     "data": {
      "text/plain": [
       "[3.002171463361816,\n",
       " 4.045757490560675,\n",
       " 5.0,\n",
       " 5.954242509439325,\n",
       " 6.9956351945975515,\n",
       " 8.979303657420887,\n",
       " 9.958567835319727,\n",
       " 12.2518119729938]"
      ]
     },
     "execution_count": 13,
     "metadata": {},
     "output_type": "execute_result"
    }
   ],
   "source": [
    "Calculo_Titulacao(n,Volume,Ka = 10**-5)"
   ]
  },
  {
   "cell_type": "code",
   "execution_count": 14,
   "metadata": {},
   "outputs": [
    {
     "data": {
      "text/plain": [
       "'Ve = 10.0'"
      ]
     },
     "metadata": {},
     "output_type": "display_data"
    }
   ],
   "source": [
    "y=Calculo_Titulacao(n,Volume,Ka = 10**-5)"
   ]
  },
  {
   "cell_type": "code",
   "execution_count": 15,
   "metadata": {},
   "outputs": [
    {
     "data": {
      "image/png": "[encoded data removed]",
      "text/plain": [
       "<Figure size 720x432 with 1 Axes>"
      ]
     },
     "metadata": {
      "needs_background": "light"
     },
     "output_type": "display_data"
    }
   ],
   "source": [
    "plt.style.use('tableau-colorblind10')\n",
    "fig, ax = plt.subplots(figsize=(10,6))\n",
    "ax.plot(Volume,y,label = 'Curva de Titulação')\n",
    "ax.legend(loc = 'lower right')\n",
    "plt.xlabel('Volume(mL)')\n",
    "plt.ylabel('pH')\n",
    "plt.title('Titulação ácido fraco - base forte ')\n",
    "plt.grid()\n",
    "plt.ylim(0,14)\n",
    "plt.xlim(0,12)\n",
    "fig.tight_layout()"
   ]
  },
  {
   "cell_type": "code",
   "execution_count": null,
   "metadata": {},
   "outputs": [],
   "source": []
  }
 ],
 "metadata": {
  "kernelspec": {
   "display_name": "Python 3",
   "language": "python",
   "name": "python3"
  },
  "language_info": {
   "codemirror_mode": {
    "name": "ipython",
    "version": 3
   },
   "file_extension": ".py",
   "mimetype": "text/x-python",
   "name": "python",
   "nbconvert_exporter": "python",
   "pygments_lexer": "ipython3",
   "version": "3.8.3"
  }
 },
 "nbformat": 4,
 "nbformat_minor": 4
}
