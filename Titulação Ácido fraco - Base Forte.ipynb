{
 "cells": [
  {
   "cell_type": "code",
   "execution_count": 1,
   "metadata": {},
   "outputs": [],
   "source": [
    "import numpy as np \n",
    "import matplotlib.pyplot as plt"
   ]
  },
  {
   "cell_type": "markdown",
   "metadata": {},
   "source": [
    "Titulação Ácido Fraco - Base Forte"
   ]
  },
  {
   "cell_type": "code",
   "execution_count": 8,
   "metadata": {},
   "outputs": [],
   "source": [
    "n = [0.1,100,1]\n",
    "Volume = [0,1,5,9,9.9,10,10.1,12]"
   ]
  },
  {
   "cell_type": "code",
   "execution_count": 19,
   "metadata": {},
   "outputs": [],
   "source": [
    "def Calculo_Titulacao(n,Volume,Ka = None):\n",
    "    \n",
    "    """ n = (C_inicial, V_inicial,C_titulante)"""\n",
    "    C_inicial = n[0]\n",
    "    V_inicial = n[1]\n",
    "    C_titulante = n[2]\n",
    "    pKa = -np.log10(Ka)\n",
    "    Kw = 10**-14\n",
    "    def segundo_grau(a = 1,Ka = Ka):\n",
    "        b = Ka\n",
    "        c = -n[0]*Ka\n",
    "        delta =  b**2 -4*a*c\n",
    "        x = (-b - np.sqrt(delta))/2*a\n",
    "        t = (-b + np.sqrt(delta))/2*a\n",
    "        if x >0:\n",
    "            return x\n",
    "        else:\n",
    "            return t\n",
    "    polinomio = segundo_grau(a = 1,Ka = Ka)     \n",
    "    #Achando Ve \n",
    "    Ve = (C_inicial*V_inicial)/C_titulante\n",
    "    #Empty list to return values\n",
    "    p_H = []\n",
    "    \n",
    "    for index , item in enumerate(Volume):\n",
    "        if item == 0:\n",
    "            C_H = polinomio\n",
    "            pH = - np.log10(C_H)\n",
    "            p_H.append(pH)\n",
    "           \n",
    "        elif item < Ve  :\n",
    "            C_H = (C_inicial*V_inicial - C_titulante*Volume[index])/(V_inicial + Volume[index])\n",
    "            C_A_menos = C_titulante*Volume[index]/(V_inicial+Volume[index])\n",
    "            #Henderson Hasselbalch equation\n",
    "            pH = pKa + np.log10(C_A_menos/C_H)\n",
    "            p_H.append(pH)\n",
    "            \n",
    "        elif item == Ve:\n",
    "            Kb = Kw/Ka\n",
    "            C_A_menos = C_titulante*Ve/(V_inicial + Ve)\n",
    "            C_OH = np.sqrt(Kb*C_A_menos)\n",
    "            pH = 14 + np.log10(C_OH)\n",
    "            p_H.append(pH)\n",
    "        else:\n",
    "            C_OH = (C_titulante*Volume[index] - C_inicial*V_inicial)/(V_inicial + Volume[index])\n",
    "            pH = 14 + np.log10(C_OH)\n",
    "            p_H.append(pH)\n",
    "            \n",
    "    display(f\"Ve = {Ve} mL\")        \n",
    "    return p_H"
   ]
  },
  {
   "cell_type": "code",
   "execution_count": 20,
   "metadata": {},
   "outputs": [
    {
     "data": {
      "text/plain": [
       "'Ve = 10.0 mL'"
      ]
     },
     "metadata": {},
     "output_type": "display_data"
    }
   ],
   "source": [
    "Calculo_Titulacao(n,Volume,Ka = 10**-5)\n",
    "Volume = np.linspace(0,12,1000)"
   ]
  },
  {
   "cell_type": "code",
   "execution_count": 21,
   "metadata": {},
   "outputs": [
    {
     "data": {
      "text/plain": [
       "'Ve = 10.0 mL'"
      ]
     },
     "metadata": {},
     "output_type": "display_data"
    }
   ],
   "source": [
    "y=Calculo_Titulacao(n,Volume,Ka = 10**-5)\n"
   ]
  },
  {
   "cell_type": "code",
   "execution_count": 18,
   "metadata": {},
   "outputs": [
    {
     "data": {
      "image/png": "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\n",
      "text/plain": [
       "<Figure size 720x432 with 1 Axes>"
      ]
     },
     "metadata": {
      "needs_background": "light"
     },
     "output_type": "display_data"
    }
   ],
   "source": [
    "plt.style.use('tableau-colorblind10')\n",
    "fig, ax = plt.subplots(figsize=(10,6))\n",
    "ax.plot(Volume,y,label = 'Curva de Titulação')\n",
    "ax.legend(loc = 'lower right')\n",
    "plt.xlabel('Volume(mL)')\n",
    "plt.ylabel('pH')\n",
    "plt.title('Titulação ácido fraco - base forte ')\n",
    "plt.grid()\n",
    "plt.ylim(0,14)\n",
    "plt.xlim(0,12)\n",
    "fig.tight_layout()"
   ]
  }
 ],
 "metadata": {
  "kernelspec": {
   "display_name": "Python 3",
   "language": "python",
   "name": "python3"
  },
  "language_info": {
   "codemirror_mode": {
    "name": "ipython",
    "version": 3
   },
   "file_extension": ".py",
   "mimetype": "text/x-python",
   "name": "python",
   "nbconvert_exporter": "python",
   "pygments_lexer": "ipython3",
   "version": "3.8.3"
  }
 },
 "nbformat": 4,
 "nbformat_minor": 4
}
